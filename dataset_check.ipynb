{
 "cells": [
  {
   "cell_type": "code",
   "id": "initial_id",
   "metadata": {
    "collapsed": true,
    "ExecuteTime": {
     "end_time": "2025-10-08T20:06:27.267286Z",
     "start_time": "2025-10-08T20:06:27.186971Z"
    }
   },
   "source": [
    "import rasterio\n",
    "from pathlib import Path\n",
    "from tqdm import tqdm\n",
    "import shutil"
   ],
   "outputs": [],
   "execution_count": 1
  },
  {
   "metadata": {
    "ExecuteTime": {
     "end_time": "2025-10-07T09:23:52.367596Z",
     "start_time": "2025-10-07T09:23:52.365105Z"
    }
   },
   "cell_type": "code",
   "source": [
    "def bounds_contains(outer, inner, atol=0.0):\n",
    "    L0, B0, R0, T0 = outer\n",
    "    L1, B1, R1, T1 = inner\n",
    "    return (L0 <= L1 + atol) and (B0 <= B1 + atol) and \\\n",
    "           (R0 + atol >= R1) and (T0 + atol >= T1)"
   ],
   "id": "f2bebaa6047be716",
   "outputs": [],
   "execution_count": 10
  },
  {
   "metadata": {
    "ExecuteTime": {
     "end_time": "2025-10-07T09:27:20.982808Z",
     "start_time": "2025-10-07T09:27:19.379160Z"
    }
   },
   "cell_type": "code",
   "source": [
    "images_folder = Path('data/TreeAI_Swiss/images')\n",
    "uav_images = list(images_folder.rglob(\"*.tif\"))\n",
    "images_num = len(uav_images)\n",
    "\n",
    "sateEmbed = Path('data/TreeAI_Swiss/Satellite_Embedding')\n",
    "sateEmbed_images = list(sateEmbed.rglob(\"*.tif\"))\n",
    "sateEmbed_num = len(sateEmbed_images)\n",
    "\n",
    "assert sateEmbed_num == images_num, \"The number of Satellite Embedding data shoud be the same as of UAV images.\""
   ],
   "id": "9dddffd4ebf47719",
   "outputs": [],
   "execution_count": 13
  },
  {
   "metadata": {
    "ExecuteTime": {
     "end_time": "2025-10-07T09:32:57.732940Z",
     "start_time": "2025-10-07T09:32:01.903833Z"
    }
   },
   "cell_type": "code",
   "source": [
    "for sate_embed in sateEmbed_images:\n",
    "    with rasterio.open(sate_embed) as src:\n",
    "        sate_metadata = src.meta\n",
    "        sate_bounds = src.bounds\n",
    "\n",
    "    uav_image_path = Path(str(sate_embed).\n",
    "                          replace(\"Satellite_Embedding\",\"images\"))\n",
    "    with rasterio.open(uav_image_path) as f:\n",
    "        uav_metadata = f.meta\n",
    "        uav_bounds = f.bounds\n",
    "\n",
    "    assert uav_metadata['crs'] == sate_metadata['crs'], \"The CRS of UAV images should be the same as the one of Satellite Embedding data\"\n",
    "\n",
    "    contain = bounds_contains(outer=sate_bounds, inner=uav_bounds)\n",
    "    if not contain:\n",
    "        print(f\"For {str(sate_embed)}, not completely contain uav image.\")\n"
   ],
   "id": "ec4e4932c422880d",
   "outputs": [],
   "execution_count": 17
  },
  {
   "metadata": {},
   "cell_type": "code",
   "outputs": [],
   "execution_count": null,
   "source": "",
   "id": "2092414ac1b837e3"
  }
 ],
 "metadata": {
  "kernelspec": {
   "display_name": "Python 3",
   "language": "python",
   "name": "python3"
  },
  "language_info": {
   "codemirror_mode": {
    "name": "ipython",
    "version": 2
   },
   "file_extension": ".py",
   "mimetype": "text/x-python",
   "name": "python",
   "nbconvert_exporter": "python",
   "pygments_lexer": "ipython2",
   "version": "2.7.6"
  }
 },
 "nbformat": 4,
 "nbformat_minor": 5
}
