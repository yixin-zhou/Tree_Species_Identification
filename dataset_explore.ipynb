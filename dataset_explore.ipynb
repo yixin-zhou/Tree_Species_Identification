{
 "cells": [
  {
   "cell_type": "code",
   "execution_count": 22,
   "id": "initial_id",
   "metadata": {
    "collapsed": true,
    "ExecuteTime": {
     "end_time": "2025-08-25T13:02:02.663963400Z",
     "start_time": "2025-08-25T13:02:02.645919900Z"
    }
   },
   "outputs": [],
   "source": [
    "import geopandas as gpd\n",
    "import rasterio"
   ]
  },
  {
   "cell_type": "code",
   "execution_count": 23,
   "outputs": [
    {
     "name": "stderr",
     "output_type": "stream",
     "text": [
      "C:\\Users\\zhouy\\anaconda3\\envs\\pytorch\\lib\\site-packages\\pyogrio\\raw.py:198: RuntimeWarning: organizePolygons() received an unexpected geometry.  Either a polygon with interior rings, or a polygon with less than 4 points, or a non-Polygon geometry.  Return arguments as a collection.\n",
      "  return ogr_read(\n"
     ]
    },
    {
     "data": {
      "text/plain": "   BrCon_3  BrCon_4 Origin  Shape_Leng  Shape_Area  \\\n0        4        6  Waser   22.091021   35.555933   \n1        4        6  Waser   20.305345   26.718358   \n2        4        6  Waser   17.039261   21.383560   \n3        4        6  Waser   24.674327   39.969995   \n4        4        6  Waser   16.851952   21.752496   \n\n                                            ImageURI  Class  NDVI_mean  \\\n0  Y:\\Dead\\raster\\01_switzerland\\20220713_0928_12...      6   0.154858   \n1  Y:\\Dead\\raster\\01_switzerland\\20220713_0928_12...      6   0.194972   \n2  Y:\\Dead\\raster\\01_switzerland\\20220713_0928_12...      6   0.244497   \n3  Y:\\Dead\\raster\\01_switzerland\\20220713_0928_12...      6   0.159653   \n4  Y:\\Dead\\raster\\01_switzerland\\20220713_0928_12...      6   0.173379   \n\n   NDVI_max  NDVI_min  ...  SPECIES  BART  Source  \\\n0  0.554688       0.0  ...     None   0.0    RGBI   \n1  0.642578       0.0  ...     None   0.0    RGBI   \n2  0.633301       0.0  ...     None   0.0    RGBI   \n3  0.660645       0.0  ...     None   0.0    RGBI   \n4  0.618164       0.0  ...     None   0.0    RGBI   \n\n                           Tiff  Year  Class_Int  ClassInt  TreeAI_ID  \\\n0  20220713_0928_12504_0_19.tif  2022          6         6         13   \n1  20220713_0928_12504_0_19.tif  2022          6         6         13   \n2  20220713_0928_12504_0_19.tif  2022          6         6         13   \n3  20220713_0928_12504_0_19.tif  2022          6         6         13   \n4  20220713_0928_12504_0_19.tif  2022          6         6         13   \n\n   TreeAI_ID1                                           geometry  \n0          13  POLYGON Z ((2742614.745 1203859.28 0, 2742613....  \n1          13  POLYGON Z ((2742597.056 1203857.862 0, 2742597...  \n2          13  POLYGON Z ((2742673.138 1203932.099 0, 2742673...  \n3          13  POLYGON Z ((2742641.612 1203909.458 0, 2742641...  \n4          13  POLYGON Z ((2742619.895 1203941.679 0, 2742620...  \n\n[5 rows x 29 columns]",
      "text/html": "<div>\n<style scoped>\n    .dataframe tbody tr th:only-of-type {\n        vertical-align: middle;\n    }\n\n    .dataframe tbody tr th {\n        vertical-align: top;\n    }\n\n    .dataframe thead th {\n        text-align: right;\n    }\n</style>\n<table border=\"1\" class=\"dataframe\">\n  <thead>\n    <tr style=\"text-align: right;\">\n      <th></th>\n      <th>BrCon_3</th>\n      <th>BrCon_4</th>\n      <th>Origin</th>\n      <th>Shape_Leng</th>\n      <th>Shape_Area</th>\n      <th>ImageURI</th>\n      <th>Class</th>\n      <th>NDVI_mean</th>\n      <th>NDVI_max</th>\n      <th>NDVI_min</th>\n      <th>...</th>\n      <th>SPECIES</th>\n      <th>BART</th>\n      <th>Source</th>\n      <th>Tiff</th>\n      <th>Year</th>\n      <th>Class_Int</th>\n      <th>ClassInt</th>\n      <th>TreeAI_ID</th>\n      <th>TreeAI_ID1</th>\n      <th>geometry</th>\n    </tr>\n  </thead>\n  <tbody>\n    <tr>\n      <th>0</th>\n      <td>4</td>\n      <td>6</td>\n      <td>Waser</td>\n      <td>22.091021</td>\n      <td>35.555933</td>\n      <td>Y:\\Dead\\raster\\01_switzerland\\20220713_0928_12...</td>\n      <td>6</td>\n      <td>0.154858</td>\n      <td>0.554688</td>\n      <td>0.0</td>\n      <td>...</td>\n      <td>None</td>\n      <td>0.0</td>\n      <td>RGBI</td>\n      <td>20220713_0928_12504_0_19.tif</td>\n      <td>2022</td>\n      <td>6</td>\n      <td>6</td>\n      <td>13</td>\n      <td>13</td>\n      <td>POLYGON Z ((2742614.745 1203859.28 0, 2742613....</td>\n    </tr>\n    <tr>\n      <th>1</th>\n      <td>4</td>\n      <td>6</td>\n      <td>Waser</td>\n      <td>20.305345</td>\n      <td>26.718358</td>\n      <td>Y:\\Dead\\raster\\01_switzerland\\20220713_0928_12...</td>\n      <td>6</td>\n      <td>0.194972</td>\n      <td>0.642578</td>\n      <td>0.0</td>\n      <td>...</td>\n      <td>None</td>\n      <td>0.0</td>\n      <td>RGBI</td>\n      <td>20220713_0928_12504_0_19.tif</td>\n      <td>2022</td>\n      <td>6</td>\n      <td>6</td>\n      <td>13</td>\n      <td>13</td>\n      <td>POLYGON Z ((2742597.056 1203857.862 0, 2742597...</td>\n    </tr>\n    <tr>\n      <th>2</th>\n      <td>4</td>\n      <td>6</td>\n      <td>Waser</td>\n      <td>17.039261</td>\n      <td>21.383560</td>\n      <td>Y:\\Dead\\raster\\01_switzerland\\20220713_0928_12...</td>\n      <td>6</td>\n      <td>0.244497</td>\n      <td>0.633301</td>\n      <td>0.0</td>\n      <td>...</td>\n      <td>None</td>\n      <td>0.0</td>\n      <td>RGBI</td>\n      <td>20220713_0928_12504_0_19.tif</td>\n      <td>2022</td>\n      <td>6</td>\n      <td>6</td>\n      <td>13</td>\n      <td>13</td>\n      <td>POLYGON Z ((2742673.138 1203932.099 0, 2742673...</td>\n    </tr>\n    <tr>\n      <th>3</th>\n      <td>4</td>\n      <td>6</td>\n      <td>Waser</td>\n      <td>24.674327</td>\n      <td>39.969995</td>\n      <td>Y:\\Dead\\raster\\01_switzerland\\20220713_0928_12...</td>\n      <td>6</td>\n      <td>0.159653</td>\n      <td>0.660645</td>\n      <td>0.0</td>\n      <td>...</td>\n      <td>None</td>\n      <td>0.0</td>\n      <td>RGBI</td>\n      <td>20220713_0928_12504_0_19.tif</td>\n      <td>2022</td>\n      <td>6</td>\n      <td>6</td>\n      <td>13</td>\n      <td>13</td>\n      <td>POLYGON Z ((2742641.612 1203909.458 0, 2742641...</td>\n    </tr>\n    <tr>\n      <th>4</th>\n      <td>4</td>\n      <td>6</td>\n      <td>Waser</td>\n      <td>16.851952</td>\n      <td>21.752496</td>\n      <td>Y:\\Dead\\raster\\01_switzerland\\20220713_0928_12...</td>\n      <td>6</td>\n      <td>0.173379</td>\n      <td>0.618164</td>\n      <td>0.0</td>\n      <td>...</td>\n      <td>None</td>\n      <td>0.0</td>\n      <td>RGBI</td>\n      <td>20220713_0928_12504_0_19.tif</td>\n      <td>2022</td>\n      <td>6</td>\n      <td>6</td>\n      <td>13</td>\n      <td>13</td>\n      <td>POLYGON Z ((2742619.895 1203941.679 0, 2742620...</td>\n    </tr>\n  </tbody>\n</table>\n<p>5 rows × 29 columns</p>\n</div>"
     },
     "execution_count": 23,
     "metadata": {},
     "output_type": "execute_result"
    }
   ],
   "source": [
    "anno_shp_path = 'data/TreeAI_Swiss/annotations_shapefile/Data_Swiss_NDVI_XY_50buf_up_28782_LF_MB_ZX_27790spDead.shp'\n",
    "annotations = gpd.read_file(anno_shp_path)\n",
    "annotations.head()"
   ],
   "metadata": {
    "collapsed": false,
    "ExecuteTime": {
     "end_time": "2025-08-25T13:02:07.197661800Z",
     "start_time": "2025-08-25T13:02:04.411759600Z"
    }
   },
   "id": "49378507f69ac9b3"
  },
  {
   "cell_type": "code",
   "execution_count": 25,
   "outputs": [
    {
     "name": "stdout",
     "output_type": "stream",
     "text": [
      "There are 27790 annotations (1119 images), 15 different species of trees in Switzerland in total.\n",
      "Tiff\n",
      "20220824_1027_12504_0_16.tif    823\n",
      "20220717_0737_12501_30_0.tif    810\n",
      "20220824_1100_12504_0_16.tif    787\n",
      "20220824_1027_12504_0_19.tif    602\n",
      "20220824_1027_12504_0_15.tif    590\n",
      "                               ... \n",
      "20180712_0804_12504_0_32.tif      1\n",
      "20190602_0933_12501_0_19.tif      1\n",
      "20190601_0916_12501_0_26.tif      1\n",
      "20180626_0754_12504_0_8.tif       1\n",
      "20180626_1429_12501_0_30.tif      1\n",
      "Name: count, Length: 1119, dtype: int64\n",
      "TreeAI_ID1\n",
      "13    15572\n",
      "3      3253\n",
      "24     2124\n",
      "12     1913\n",
      "43     1062\n",
      "6       948\n",
      "9       943\n",
      "56      940\n",
      "26      568\n",
      "63      356\n",
      "36       63\n",
      "30       45\n",
      "64        1\n",
      "62        1\n",
      "49        1\n",
      "Name: count, dtype: int64\n"
     ]
    }
   ],
   "source": [
    "total_rows = len(annotations)\n",
    "class_num = annotations['TreeAI_ID1'].nunique()\n",
    "raster_num = annotations['Tiff'].nunique()\n",
    "print(f\"There are {total_rows} annotations ({raster_num} images), {class_num} different species of trees in Switzerland in total.\")\n",
    "\n",
    "tiff_counts = annotations['Tiff'].value_counts()\n",
    "print(tiff_counts)\n",
    "\n",
    "class_counts = annotations['TreeAI_ID1'].value_counts()\n",
    "print(class_counts)"
   ],
   "metadata": {
    "collapsed": false,
    "ExecuteTime": {
     "end_time": "2025-08-25T13:02:13.908531100Z",
     "start_time": "2025-08-25T13:02:13.888463400Z"
    }
   },
   "id": "f105d59a50fb2bf"
  },
  {
   "cell_type": "code",
   "execution_count": 28,
   "outputs": [
    {
     "name": "stdout",
     "output_type": "stream",
     "text": [
      "Polygon         27705\n",
      "MultiPolygon       85\n",
      "Name: count, dtype: int64\n",
      "Polygon    27877\n",
      "Name: count, dtype: int64\n"
     ]
    }
   ],
   "source": [
    "geom_type_counts = annotations.geometry.geom_type.value_counts()\n",
    "print(geom_type_counts)\n",
    "\n",
    "annotations = annotations.explode(ignore_index=True)\n",
    "geom_type_counts = annotations.geometry.geom_type.value_counts()\n",
    "print(geom_type_counts)"
   ],
   "metadata": {
    "collapsed": false,
    "ExecuteTime": {
     "end_time": "2025-08-25T13:06:38.692517500Z",
     "start_time": "2025-08-25T13:06:38.481816700Z"
    }
   },
   "id": "1ee70e9be74e8265"
  }
 ],
 "metadata": {
  "kernelspec": {
   "display_name": "Python 3",
   "language": "python",
   "name": "python3"
  },
  "language_info": {
   "codemirror_mode": {
    "name": "ipython",
    "version": 2
   },
   "file_extension": ".py",
   "mimetype": "text/x-python",
   "name": "python",
   "nbconvert_exporter": "python",
   "pygments_lexer": "ipython2",
   "version": "2.7.6"
  }
 },
 "nbformat": 4,
 "nbformat_minor": 5
}
