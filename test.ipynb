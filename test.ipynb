{
 "cells": [
  {
   "cell_type": "code",
   "id": "initial_id",
   "metadata": {
    "collapsed": true,
    "ExecuteTime": {
     "end_time": "2025-09-10T13:28:14.652393Z",
     "start_time": "2025-09-10T13:28:13.479632Z"
    }
   },
   "source": [
    "import ee\n",
    "import os\n",
    "import geemap\n",
    "\n",
    "S2_BANDS = ['B2', 'B3', 'B4', 'B8',  # 10m\n",
    "            'B5', 'B8A', 'B11']  # 20m\n",
    "\n",
    "PROJECT_NAME = 'treeai-470815'\n",
    "BUCKET_NAME = 'treeai_data'\n",
    "\n",
    "# Initialize the Earth Engine module and register this code in project 'TreeAI'\n",
    "ee.Authenticate()\n",
    "ee.Initialize(project=PROJECT_NAME)"
   ],
   "outputs": [
    {
     "data": {
      "text/plain": [
       "<IPython.core.display.HTML object>"
      ],
      "text/html": [
       "\n",
       "            <style>\n",
       "                .geemap-dark {\n",
       "                    --jp-widgets-color: white;\n",
       "                    --jp-widgets-label-color: white;\n",
       "                    --jp-ui-font-color1: white;\n",
       "                    --jp-layout-color2: #454545;\n",
       "                    background-color: #383838;\n",
       "                }\n",
       "\n",
       "                .geemap-dark .jupyter-button {\n",
       "                    --jp-layout-color3: #383838;\n",
       "                }\n",
       "\n",
       "                .geemap-colab {\n",
       "                    background-color: var(--colab-primary-surface-color, white);\n",
       "                }\n",
       "\n",
       "                .geemap-colab .jupyter-button {\n",
       "                    --jp-layout-color3: var(--colab-primary-surface-color, white);\n",
       "                }\n",
       "            </style>\n",
       "            "
      ]
     },
     "metadata": {},
     "output_type": "display_data",
     "jetTransient": {
      "display_id": null
     }
    }
   ],
   "execution_count": 62
  },
  {
   "metadata": {
    "ExecuteTime": {
     "end_time": "2025-09-10T13:28:14.708016Z",
     "start_time": "2025-09-10T13:28:14.705685Z"
    }
   },
   "cell_type": "code",
   "source": "test_img = ee.Image('projects/treeai-470815/assets/20220518_1049_12504_0_15_p_14848_2560')",
   "id": "a1127ed5140d9be0",
   "outputs": [
    {
     "data": {
      "text/plain": [
       "<IPython.core.display.HTML object>"
      ],
      "text/html": [
       "\n",
       "            <style>\n",
       "                .geemap-dark {\n",
       "                    --jp-widgets-color: white;\n",
       "                    --jp-widgets-label-color: white;\n",
       "                    --jp-ui-font-color1: white;\n",
       "                    --jp-layout-color2: #454545;\n",
       "                    background-color: #383838;\n",
       "                }\n",
       "\n",
       "                .geemap-dark .jupyter-button {\n",
       "                    --jp-layout-color3: #383838;\n",
       "                }\n",
       "\n",
       "                .geemap-colab {\n",
       "                    background-color: var(--colab-primary-surface-color, white);\n",
       "                }\n",
       "\n",
       "                .geemap-colab .jupyter-button {\n",
       "                    --jp-layout-color3: var(--colab-primary-surface-color, white);\n",
       "                }\n",
       "            </style>\n",
       "            "
      ]
     },
     "metadata": {},
     "output_type": "display_data",
     "jetTransient": {
      "display_id": null
     }
    }
   ],
   "execution_count": 64
  },
  {
   "metadata": {
    "ExecuteTime": {
     "end_time": "2025-09-10T16:51:38.473666Z",
     "start_time": "2025-09-10T16:51:38.469523Z"
    }
   },
   "cell_type": "code",
   "source": [
    "def generate_monthly_SwissEO(target_geometry, start_date, end_date, s2_bands):\n",
    "    col = (ee.ImageCollection(\"projects/satromo-prod/assets/col/S2_SR_HARMONIZED_SWISS\")\n",
    "           .filterBounds(target_geometry)\n",
    "           .filterDate(start_date, end_date))\n",
    "\n",
    "    images_10m = col.filter(ee.Filter.eq('pixel_size_meter', 10)).sort('system:time_start', True)\n",
    "    images_20m = col.filter(ee.Filter.eq('pixel_size_meter', 20)).sort('system:time_start', True)\n",
    "\n",
    "    n = images_10m.size()\n",
    "    l10 = images_10m.toList(n)\n",
    "    l20 = images_20m.toList(n)\n",
    "\n",
    "    def combine_pair(i):\n",
    "        i   = ee.Number(i)\n",
    "        i10 = ee.Image(l10.get(i))\n",
    "        i20 = ee.Image(l20.get(i))\n",
    "        return (ee.Image.cat([\n",
    "                    i10.select(['B2', 'B3', 'B4', 'B8', 'cloudAndCloudShadowMask']),\n",
    "                    i20.select(['B5', 'B8A', 'B11'])\n",
    "                ])\n",
    "                .copyProperties(i10, ['system:time_start', 'system:index']))\n",
    "\n",
    "    merged = ee.ImageCollection(ee.List.sequence(0, n.subtract(1)).map(combine_pair))\n",
    "\n",
    "    def downsample_mask_band(image):\n",
    "        other_bands = image.select(S2_BANDS)\n",
    "        mask_band = image.select('cloudAndCloudShadowMask').resample('nearest').reproject({'crs': img.projection(), 'scale': 20})\n",
    "        mask_band =\n",
    "\n",
    "    return merged\n"
   ],
   "id": "bc8281fe7f0e731",
   "outputs": [
    {
     "data": {
      "text/plain": [
       "<IPython.core.display.HTML object>"
      ],
      "text/html": [
       "\n",
       "            <style>\n",
       "                .geemap-dark {\n",
       "                    --jp-widgets-color: white;\n",
       "                    --jp-widgets-label-color: white;\n",
       "                    --jp-ui-font-color1: white;\n",
       "                    --jp-layout-color2: #454545;\n",
       "                    background-color: #383838;\n",
       "                }\n",
       "\n",
       "                .geemap-dark .jupyter-button {\n",
       "                    --jp-layout-color3: #383838;\n",
       "                }\n",
       "\n",
       "                .geemap-colab {\n",
       "                    background-color: var(--colab-primary-surface-color, white);\n",
       "                }\n",
       "\n",
       "                .geemap-colab .jupyter-button {\n",
       "                    --jp-layout-color3: var(--colab-primary-surface-color, white);\n",
       "                }\n",
       "            </style>\n",
       "            "
      ]
     },
     "metadata": {},
     "output_type": "display_data",
     "jetTransient": {
      "display_id": null
     }
    }
   ],
   "execution_count": 128
  },
  {
   "metadata": {
    "ExecuteTime": {
     "end_time": "2025-09-10T16:52:08.198273Z",
     "start_time": "2025-09-10T16:52:07.355039Z"
    }
   },
   "cell_type": "code",
   "source": [
    "start_date = ee.Date.fromYMD(2019, 5, 1)\n",
    "end_date = start_date.advance(1, 'month')\n",
    "swiss_img = generate_monthly_SwissEO(target_geometry=test_img.geometry(), start_date=start_date, end_date=end_date, s2_bands=S2_BANDS)\n",
    "swiss_img.first()"
   ],
   "id": "17b45b879793aecd",
   "outputs": [
    {
     "data": {
      "text/plain": [
       "<IPython.core.display.HTML object>"
      ],
      "text/html": [
       "\n",
       "            <style>\n",
       "                .geemap-dark {\n",
       "                    --jp-widgets-color: white;\n",
       "                    --jp-widgets-label-color: white;\n",
       "                    --jp-ui-font-color1: white;\n",
       "                    --jp-layout-color2: #454545;\n",
       "                    background-color: #383838;\n",
       "                }\n",
       "\n",
       "                .geemap-dark .jupyter-button {\n",
       "                    --jp-layout-color3: #383838;\n",
       "                }\n",
       "\n",
       "                .geemap-colab {\n",
       "                    background-color: var(--colab-primary-surface-color, white);\n",
       "                }\n",
       "\n",
       "                .geemap-colab .jupyter-button {\n",
       "                    --jp-layout-color3: var(--colab-primary-surface-color, white);\n",
       "                }\n",
       "            </style>\n",
       "            "
      ]
     },
     "metadata": {},
     "output_type": "display_data",
     "jetTransient": {
      "display_id": null
     }
    },
    {
     "data": {
      "text/plain": [
       "<ee.image.Image at 0x7ce245d5d590>"
      ],
      "text/html": [
       "<div><style>:root {\n",
       "  --font-color-primary: var(--jp-content-font-color0, rgba(0, 0, 0, 1));\n",
       "  --font-color-secondary: var(--jp-content-font-color2, rgba(0, 0, 0, 0.7));\n",
       "  --font-color-accent: rgba(123, 31, 162, 1);\n",
       "  --border-color: var(--jp-border-color2, #e0e0e0);\n",
       "  --background-color: var(--jp-layout-color0, white);\n",
       "  --background-color-row-even: var(--jp-layout-color1, white);\n",
       "  --background-color-row-odd: var(--jp-layout-color2, #eeeeee);\n",
       "}\n",
       "\n",
       "html[theme=\"dark\"],\n",
       "body[data-theme=\"dark\"],\n",
       "body.vscode-dark {\n",
       "  --font-color-primary: rgba(255, 255, 255, 1);\n",
       "  --font-color-secondary: rgba(255, 255, 255, 0.7);\n",
       "  --font-color-accent: rgb(173, 132, 190);\n",
       "  --border-color: #2e2e2e;\n",
       "  --background-color: #111111;\n",
       "  --background-color-row-even: #111111;\n",
       "  --background-color-row-odd: #313131;\n",
       "}\n",
       "\n",
       ".eerepr {\n",
       "  padding: 1em;\n",
       "  line-height: 1.5em;\n",
       "  min-width: 300px;\n",
       "  max-width: 1200px;\n",
       "  overflow-y: scroll;\n",
       "  max-height: 600px;\n",
       "  border: 1px solid var(--border-color);\n",
       "  font-family: monospace;\n",
       "  font-size: 14px;\n",
       "}\n",
       "\n",
       ".eerepr li {\n",
       "  list-style-type: none;\n",
       "  margin: 0;\n",
       "}\n",
       "\n",
       ".eerepr ul {\n",
       "  padding-left: 1.5em !important;\n",
       "  margin: 0;\n",
       "}\n",
       "\n",
       ".eerepr > ul {\n",
       "  padding-left: 0 !important;\n",
       "}\n",
       "\n",
       ".eerepr summary {\n",
       "  color: var(--font-color-secondary);\n",
       "  cursor: pointer;\n",
       "  margin: 0;\n",
       "}\n",
       "\n",
       ".eerepr summary:hover {\n",
       "  color: var(--font-color-primary);\n",
       "  background-color: var(--background-color-row-odd)\n",
       "}\n",
       "\n",
       ".ee-k {\n",
       "  color: var(--font-color-accent);\n",
       "  margin-right: 6px;\n",
       "}\n",
       "\n",
       ".ee-v {\n",
       "  color: var(--font-color-primary);\n",
       "}\n",
       "\n",
       ".eerepr details > summary::before {\n",
       "  content: '▼';\n",
       "  display: inline-block;\n",
       "  margin-right: 6px;\n",
       "  transition: transform 0.2s;\n",
       "  transform: rotate(-90deg);\n",
       "}\n",
       "\n",
       ".eerepr details[open] > summary::before {\n",
       "  transform: rotate(0deg);\n",
       "}\n",
       "\n",
       ".eerepr details summary::-webkit-details-marker {\n",
       "  display:none;\n",
       "}\n",
       "\n",
       ".eerepr details summary {\n",
       "  list-style-type: none;\n",
       "}\n",
       "</style><div class='eerepr'><ul><li><details><summary>Image projects/satromo-prod/assets/col/S2_SR_HARMONIZED_SWISS/S2-L2A_mosaic_2019-05-07T102031_bands-10m (8 bands)</summary><ul><li><span class='ee-k'>type:</span><span class='ee-v'>Image</span></li><li><span class='ee-k'>id:</span><span class='ee-v'>projects/satromo-prod/assets/col/S2_SR_HARMONIZED_SWISS/S2-L2A_mosaic_2019-05-07T102031_bands-10m</span></li><li><span class='ee-k'>version:</span><span class='ee-v'>1732096526309315</span></li><li><details><summary>bands: List (8 elements)</summary><ul><li><details><summary>0: \"B2\", unsigned int16, EPSG:2056, 32290x23621 px</summary><ul><li><span class='ee-k'>id:</span><span class='ee-v'>B2</span></li><li><span class='ee-k'>crs:</span><span class='ee-v'>EPSG:2056</span></li><li><details><summary>crs_transform: [10, 0, 2518740, 0, -10, 1305550]</summary><ul><li><span class='ee-k'>0:</span><span class='ee-v'>10</span></li><li><span class='ee-k'>1:</span><span class='ee-v'>0</span></li><li><span class='ee-k'>2:</span><span class='ee-v'>2518740</span></li><li><span class='ee-k'>3:</span><span class='ee-v'>0</span></li><li><span class='ee-k'>4:</span><span class='ee-v'>-10</span></li><li><span class='ee-k'>5:</span><span class='ee-v'>1305550</span></li></ul></details></li><li><details><summary>data_type: unsigned int16</summary><ul><li><span class='ee-k'>type:</span><span class='ee-v'>PixelType</span></li><li><span class='ee-k'>max:</span><span class='ee-v'>65535</span></li><li><span class='ee-k'>min:</span><span class='ee-v'>0</span></li><li><span class='ee-k'>precision:</span><span class='ee-v'>int</span></li></ul></details></li><li><details><summary>dimensions: [32290, 23621]</summary><ul><li><span class='ee-k'>0:</span><span class='ee-v'>32290</span></li><li><span class='ee-k'>1:</span><span class='ee-v'>23621</span></li></ul></details></li></ul></details></li><li><details><summary>1: \"B3\", unsigned int16, EPSG:2056, 32290x23621 px</summary><ul><li><span class='ee-k'>id:</span><span class='ee-v'>B3</span></li><li><span class='ee-k'>crs:</span><span class='ee-v'>EPSG:2056</span></li><li><details><summary>crs_transform: [10, 0, 2518740, 0, -10, 1305550]</summary><ul><li><span class='ee-k'>0:</span><span class='ee-v'>10</span></li><li><span class='ee-k'>1:</span><span class='ee-v'>0</span></li><li><span class='ee-k'>2:</span><span class='ee-v'>2518740</span></li><li><span class='ee-k'>3:</span><span class='ee-v'>0</span></li><li><span class='ee-k'>4:</span><span class='ee-v'>-10</span></li><li><span class='ee-k'>5:</span><span class='ee-v'>1305550</span></li></ul></details></li><li><details><summary>data_type: unsigned int16</summary><ul><li><span class='ee-k'>type:</span><span class='ee-v'>PixelType</span></li><li><span class='ee-k'>max:</span><span class='ee-v'>65535</span></li><li><span class='ee-k'>min:</span><span class='ee-v'>0</span></li><li><span class='ee-k'>precision:</span><span class='ee-v'>int</span></li></ul></details></li><li><details><summary>dimensions: [32290, 23621]</summary><ul><li><span class='ee-k'>0:</span><span class='ee-v'>32290</span></li><li><span class='ee-k'>1:</span><span class='ee-v'>23621</span></li></ul></details></li></ul></details></li><li><details><summary>2: \"B4\", unsigned int16, EPSG:2056, 32290x23621 px</summary><ul><li><span class='ee-k'>id:</span><span class='ee-v'>B4</span></li><li><span class='ee-k'>crs:</span><span class='ee-v'>EPSG:2056</span></li><li><details><summary>crs_transform: [10, 0, 2518740, 0, -10, 1305550]</summary><ul><li><span class='ee-k'>0:</span><span class='ee-v'>10</span></li><li><span class='ee-k'>1:</span><span class='ee-v'>0</span></li><li><span class='ee-k'>2:</span><span class='ee-v'>2518740</span></li><li><span class='ee-k'>3:</span><span class='ee-v'>0</span></li><li><span class='ee-k'>4:</span><span class='ee-v'>-10</span></li><li><span class='ee-k'>5:</span><span class='ee-v'>1305550</span></li></ul></details></li><li><details><summary>data_type: unsigned int16</summary><ul><li><span class='ee-k'>type:</span><span class='ee-v'>PixelType</span></li><li><span class='ee-k'>max:</span><span class='ee-v'>65535</span></li><li><span class='ee-k'>min:</span><span class='ee-v'>0</span></li><li><span class='ee-k'>precision:</span><span class='ee-v'>int</span></li></ul></details></li><li><details><summary>dimensions: [32290, 23621]</summary><ul><li><span class='ee-k'>0:</span><span class='ee-v'>32290</span></li><li><span class='ee-k'>1:</span><span class='ee-v'>23621</span></li></ul></details></li></ul></details></li><li><details><summary>3: \"B8\", unsigned int16, EPSG:2056, 32290x23621 px</summary><ul><li><span class='ee-k'>id:</span><span class='ee-v'>B8</span></li><li><span class='ee-k'>crs:</span><span class='ee-v'>EPSG:2056</span></li><li><details><summary>crs_transform: [10, 0, 2518740, 0, -10, 1305550]</summary><ul><li><span class='ee-k'>0:</span><span class='ee-v'>10</span></li><li><span class='ee-k'>1:</span><span class='ee-v'>0</span></li><li><span class='ee-k'>2:</span><span class='ee-v'>2518740</span></li><li><span class='ee-k'>3:</span><span class='ee-v'>0</span></li><li><span class='ee-k'>4:</span><span class='ee-v'>-10</span></li><li><span class='ee-k'>5:</span><span class='ee-v'>1305550</span></li></ul></details></li><li><details><summary>data_type: unsigned int16</summary><ul><li><span class='ee-k'>type:</span><span class='ee-v'>PixelType</span></li><li><span class='ee-k'>max:</span><span class='ee-v'>65535</span></li><li><span class='ee-k'>min:</span><span class='ee-v'>0</span></li><li><span class='ee-k'>precision:</span><span class='ee-v'>int</span></li></ul></details></li><li><details><summary>dimensions: [32290, 23621]</summary><ul><li><span class='ee-k'>0:</span><span class='ee-v'>32290</span></li><li><span class='ee-k'>1:</span><span class='ee-v'>23621</span></li></ul></details></li></ul></details></li><li><details><summary>4: \"cloudAndCloudShadowMask\", unsigned int8, EPSG:2056, 32290x23621 px</summary><ul><li><span class='ee-k'>id:</span><span class='ee-v'>cloudAndCloudShadowMask</span></li><li><span class='ee-k'>crs:</span><span class='ee-v'>EPSG:2056</span></li><li><details><summary>crs_transform: [10, 0, 2518740, 0, -10, 1305550]</summary><ul><li><span class='ee-k'>0:</span><span class='ee-v'>10</span></li><li><span class='ee-k'>1:</span><span class='ee-v'>0</span></li><li><span class='ee-k'>2:</span><span class='ee-v'>2518740</span></li><li><span class='ee-k'>3:</span><span class='ee-v'>0</span></li><li><span class='ee-k'>4:</span><span class='ee-v'>-10</span></li><li><span class='ee-k'>5:</span><span class='ee-v'>1305550</span></li></ul></details></li><li><details><summary>data_type: unsigned int8</summary><ul><li><span class='ee-k'>type:</span><span class='ee-v'>PixelType</span></li><li><span class='ee-k'>max:</span><span class='ee-v'>255</span></li><li><span class='ee-k'>min:</span><span class='ee-v'>0</span></li><li><span class='ee-k'>precision:</span><span class='ee-v'>int</span></li></ul></details></li><li><details><summary>dimensions: [32290, 23621]</summary><ul><li><span class='ee-k'>0:</span><span class='ee-v'>32290</span></li><li><span class='ee-k'>1:</span><span class='ee-v'>23621</span></li></ul></details></li></ul></details></li><li><details><summary>5: \"B5\", unsigned int16, EPSG:2056, 16145x11811 px</summary><ul><li><span class='ee-k'>id:</span><span class='ee-v'>B5</span></li><li><span class='ee-k'>crs:</span><span class='ee-v'>EPSG:2056</span></li><li><details><summary>crs_transform: [20, 0, 2518740, 0, -20, 1305560]</summary><ul><li><span class='ee-k'>0:</span><span class='ee-v'>20</span></li><li><span class='ee-k'>1:</span><span class='ee-v'>0</span></li><li><span class='ee-k'>2:</span><span class='ee-v'>2518740</span></li><li><span class='ee-k'>3:</span><span class='ee-v'>0</span></li><li><span class='ee-k'>4:</span><span class='ee-v'>-20</span></li><li><span class='ee-k'>5:</span><span class='ee-v'>1305560</span></li></ul></details></li><li><details><summary>data_type: unsigned int16</summary><ul><li><span class='ee-k'>type:</span><span class='ee-v'>PixelType</span></li><li><span class='ee-k'>max:</span><span class='ee-v'>65535</span></li><li><span class='ee-k'>min:</span><span class='ee-v'>0</span></li><li><span class='ee-k'>precision:</span><span class='ee-v'>int</span></li></ul></details></li><li><details><summary>dimensions: [16145, 11811]</summary><ul><li><span class='ee-k'>0:</span><span class='ee-v'>16145</span></li><li><span class='ee-k'>1:</span><span class='ee-v'>11811</span></li></ul></details></li></ul></details></li><li><details><summary>6: \"B8A\", unsigned int16, EPSG:2056, 16145x11811 px</summary><ul><li><span class='ee-k'>id:</span><span class='ee-v'>B8A</span></li><li><span class='ee-k'>crs:</span><span class='ee-v'>EPSG:2056</span></li><li><details><summary>crs_transform: [20, 0, 2518740, 0, -20, 1305560]</summary><ul><li><span class='ee-k'>0:</span><span class='ee-v'>20</span></li><li><span class='ee-k'>1:</span><span class='ee-v'>0</span></li><li><span class='ee-k'>2:</span><span class='ee-v'>2518740</span></li><li><span class='ee-k'>3:</span><span class='ee-v'>0</span></li><li><span class='ee-k'>4:</span><span class='ee-v'>-20</span></li><li><span class='ee-k'>5:</span><span class='ee-v'>1305560</span></li></ul></details></li><li><details><summary>data_type: unsigned int16</summary><ul><li><span class='ee-k'>type:</span><span class='ee-v'>PixelType</span></li><li><span class='ee-k'>max:</span><span class='ee-v'>65535</span></li><li><span class='ee-k'>min:</span><span class='ee-v'>0</span></li><li><span class='ee-k'>precision:</span><span class='ee-v'>int</span></li></ul></details></li><li><details><summary>dimensions: [16145, 11811]</summary><ul><li><span class='ee-k'>0:</span><span class='ee-v'>16145</span></li><li><span class='ee-k'>1:</span><span class='ee-v'>11811</span></li></ul></details></li></ul></details></li><li><details><summary>7: \"B11\", unsigned int16, EPSG:2056, 16145x11811 px</summary><ul><li><span class='ee-k'>id:</span><span class='ee-v'>B11</span></li><li><span class='ee-k'>crs:</span><span class='ee-v'>EPSG:2056</span></li><li><details><summary>crs_transform: [20, 0, 2518740, 0, -20, 1305560]</summary><ul><li><span class='ee-k'>0:</span><span class='ee-v'>20</span></li><li><span class='ee-k'>1:</span><span class='ee-v'>0</span></li><li><span class='ee-k'>2:</span><span class='ee-v'>2518740</span></li><li><span class='ee-k'>3:</span><span class='ee-v'>0</span></li><li><span class='ee-k'>4:</span><span class='ee-v'>-20</span></li><li><span class='ee-k'>5:</span><span class='ee-v'>1305560</span></li></ul></details></li><li><details><summary>data_type: unsigned int16</summary><ul><li><span class='ee-k'>type:</span><span class='ee-v'>PixelType</span></li><li><span class='ee-k'>max:</span><span class='ee-v'>65535</span></li><li><span class='ee-k'>min:</span><span class='ee-v'>0</span></li><li><span class='ee-k'>precision:</span><span class='ee-v'>int</span></li></ul></details></li><li><details><summary>dimensions: [16145, 11811]</summary><ul><li><span class='ee-k'>0:</span><span class='ee-v'>16145</span></li><li><span class='ee-k'>1:</span><span class='ee-v'>11811</span></li></ul></details></li></ul></details></li></ul></details></li><li><details><summary>properties: Object (22 properties)</summary><ul><li><span class='ee-k'>COREGISTRATION:</span><span class='ee-v'>projects/satromo-432405/assets/COL_S2_SR_DXDY</span></li><li><span class='ee-k'>DATA_SOURCE:</span><span class='ee-v'>Contains modified Copernicus Sentinel data 2019</span></li><li><span class='ee-k'>MEAN_SOLAR_AZIMUTH_ANGLE:</span><span class='ee-v'>151.740608979</span></li><li><span class='ee-k'>MEAN_SOLAR_ZENITH_ANGLE:</span><span class='ee-v'>31.3310688057</span></li><li><span class='ee-k'>PROCESSING_BASELINE:</span><span class='ee-v'>02.12</span></li><li><span class='ee-k'>SENSING_ORBIT_NUMBER:</span><span class='ee-v'>65</span></li><li><span class='ee-k'>SPACECRAFT_NAME:</span><span class='ee-v'>Sentinel-2A</span></li><li><span class='ee-k'>SWISSTOPO_RELEASE_VERSION:</span><span class='ee-v'>0.0.0</span></li><li><span class='ee-k'>TERRAIN_SHADOW:</span><span class='ee-v'>projects/satromo-prod/assets/col/TERRAINSHADOW_SWISS/</span></li><li><span class='ee-k'>cloud_detection_algorithm:</span><span class='ee-v'>CloudScore+</span></li><li><span class='ee-k'>cloud_mask_threshold:</span><span class='ee-v'>40 / 20</span></li><li><span class='ee-k'>date:</span><span class='ee-v'>2019-05-07</span></li><li><span class='ee-k'>index_list:</span><span class='ee-v'>20190507T102031_20190507T102226_T32TLR,20190507T102031_20190507T102226_T32TLS,20190507T102031_20190507T102226_T32TMR,20190507T102031_20190507T102226_T32TMS,20190507T102031_20190507T102226_T32TMT,20190507T102031_20190507T102226_T32TNR,20190507T102031_20190507T102226_T32TNS,20190507T102031_20190507T102226_T32TNT,20190507T102031_20190507T102226_T32TPS,20190507T102031_20190507T102226_T32TPT,20190507T102031_20190507T102226_T32UMU</span></li><li><span class='ee-k'>percent_data:</span><span class='ee-v'>48.6</span></li><li><span class='ee-k'>percent_masked:</span><span class='ee-v'>51.4</span></li><li><span class='ee-k'>pixel_size_meter:</span><span class='ee-v'>10</span></li><li><span class='ee-k'>scene_count:</span><span class='ee-v'>11</span></li><li><span class='ee-k'>system:asset_size:</span><span class='ee-v'>4327833500</span></li><li><details><summary>system:footprint: LinearRing (18 vertices)</summary><ul><li><span class='ee-k'>type:</span><span class='ee-v'>LinearRing</span></li><li><details><summary>coordinates: List (18 elements)</summary><ul><li><details><summary>0: [6.352091763241441, 47.895373192898795]</summary><ul><li><span class='ee-k'>0:</span><span class='ee-v'>6.352091763241441</span></li><li><span class='ee-k'>1:</span><span class='ee-v'>47.895373192898795</span></li></ul></details></li><li><details><summary>1: [6.3519590464785995, 47.895302377737735]</summary><ul><li><span class='ee-k'>0:</span><span class='ee-v'>6.3519590464785995</span></li><li><span class='ee-k'>1:</span><span class='ee-v'>47.895302377737735</span></li></ul></details></li><li><details><summary>2: [6.394075754789422, 45.770900681494304]</summary><ul><li><span class='ee-k'>0:</span><span class='ee-v'>6.394075754789422</span></li><li><span class='ee-k'>1:</span><span class='ee-v'>45.770900681494304</span></li></ul></details></li><li><details><summary>3: [6.394177283699457, 45.770811632887096]</summary><ul><li><span class='ee-k'>0:</span><span class='ee-v'>6.394177283699457</span></li><li><span class='ee-k'>1:</span><span class='ee-v'>45.770811632887096</span></li></ul></details></li><li><details><summary>4: [6.912983848242587, 45.77445214775577]</summary><ul><li><span class='ee-k'>0:</span><span class='ee-v'>6.912983848242587</span></li><li><span class='ee-k'>1:</span><span class='ee-v'>45.77445214775577</span></li></ul></details></li><li><details><summary>5: [7.431806992160278, 45.775689579938685]</summary><ul><li><span class='ee-k'>0:</span><span class='ee-v'>7.431806992160278</span></li><li><span class='ee-k'>1:</span><span class='ee-v'>45.775689579938685</span></li></ul></details></li><li><details><summary>6: [7.950630772144365, 45.774523985546125]</summary><ul><li><span class='ee-k'>0:</span><span class='ee-v'>7.950630772144365</span></li><li><span class='ee-k'>1:</span><span class='ee-v'>45.774523985546125</span></li></ul></details></li><li><details><summary>7: [8.469410188209233, 45.77095564175996]</summary><ul><li><span class='ee-k'>0:</span><span class='ee-v'>8.469410188209233</span></li><li><span class='ee-k'>1:</span><span class='ee-v'>45.77095564175996</span></li></ul></details></li><li><details><summary>8: [8.988100480088926, 45.7649850713072]</summary><ul><li><span class='ee-k'>0:</span><span class='ee-v'>8.988100480088926</span></li><li><span class='ee-k'>1:</span><span class='ee-v'>45.7649850713072</span></li></ul></details></li><li><details><summary>9: [9.506656448172992, 45.75661331388323]</summary><ul><li><span class='ee-k'>0:</span><span class='ee-v'>9.506656448172992</span></li><li><span class='ee-k'>1:</span><span class='ee-v'>45.75661331388323</span></li></ul></details></li><li><details><summary>10: [10.025033560604259, 45.745841768201515]</summary><ul><li><span class='ee-k'>0:</span><span class='ee-v'>10.025033560604259</span></li><li><span class='ee-k'>1:</span><span class='ee-v'>45.745841768201515</span></li></ul></details></li><li><details><summary>11: [10.543186824666567, 45.732672211285184]</summary><ul><li><span class='ee-k'>0:</span><span class='ee-v'>10.543186824666567</span></li><li><span class='ee-k'>1:</span><span class='ee-v'>45.732672211285184</span></li></ul></details></li><li><details><summary>12: [10.543319652393357, 45.73273816419319]</summary><ul><li><span class='ee-k'>0:</span><span class='ee-v'>10.543319652393357</span></li><li><span class='ee-k'>1:</span><span class='ee-v'>45.73273816419319</span></li></ul></details></li><li><details><summary>13: [10.668205169806855, 47.85571123209489]</summary><ul><li><span class='ee-k'>0:</span><span class='ee-v'>10.668205169806855</span></li><li><span class='ee-k'>1:</span><span class='ee-v'>47.85571123209489</span></li></ul></details></li><li><details><summary>14: [9.589894907848869, 47.880609373743646]</summary><ul><li><span class='ee-k'>0:</span><span class='ee-v'>9.589894907848869</span></li><li><span class='ee-k'>1:</span><span class='ee-v'>47.880609373743646</span></li></ul></details></li><li><details><summary>15: [8.510898741072962, 47.895523343198015]</summary><ul><li><span class='ee-k'>0:</span><span class='ee-v'>8.510898741072962</span></li><li><span class='ee-k'>1:</span><span class='ee-v'>47.895523343198015</span></li></ul></details></li><li><details><summary>16: [7.431493663673474, 47.90044578796186]</summary><ul><li><span class='ee-k'>0:</span><span class='ee-v'>7.431493663673474</span></li><li><span class='ee-k'>1:</span><span class='ee-v'>47.90044578796186</span></li></ul></details></li><li><details><summary>17: [6.352091763241441, 47.895373192898795]</summary><ul><li><span class='ee-k'>0:</span><span class='ee-v'>6.352091763241441</span></li><li><span class='ee-k'>1:</span><span class='ee-v'>47.895373192898795</span></li></ul></details></li></ul></details></li></ul></details></li><li><span class='ee-k'>system:index:</span><span class='ee-v'>S2-L2A_mosaic_2019-05-07T102031_bands-10m</span></li><li><span class='ee-k'>system:time_end:</span><span class='ee-v'>1557224905000</span></li><li><span class='ee-k'>system:time_start:</span><span class='ee-v'>1557224858000</span></li></ul></details></li></ul></details></li></ul></div></div>"
      ]
     },
     "execution_count": 130,
     "metadata": {},
     "output_type": "execute_result"
    }
   ],
   "execution_count": 130
  }
 ],
 "metadata": {
  "kernelspec": {
   "display_name": "Python 3",
   "language": "python",
   "name": "python3"
  },
  "language_info": {
   "codemirror_mode": {
    "name": "ipython",
    "version": 2
   },
   "file_extension": ".py",
   "mimetype": "text/x-python",
   "name": "python",
   "nbconvert_exporter": "python",
   "pygments_lexer": "ipython2",
   "version": "2.7.6"
  }
 },
 "nbformat": 4,
 "nbformat_minor": 5
}
