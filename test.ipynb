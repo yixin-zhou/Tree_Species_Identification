{
 "cells": [
  {
   "cell_type": "code",
   "execution_count": 8,
   "id": "initial_id",
   "metadata": {
    "ExecuteTime": {
     "end_time": "2025-10-02T13:11:21.376568300Z",
     "start_time": "2025-10-02T13:11:18.789399400Z"
    },
    "collapsed": true
   },
   "outputs": [
    {
     "data": {
      "text/html": [
       "\n",
       "            <style>\n",
       "                .geemap-dark {\n",
       "                    --jp-widgets-color: white;\n",
       "                    --jp-widgets-label-color: white;\n",
       "                    --jp-ui-font-color1: white;\n",
       "                    --jp-layout-color2: #454545;\n",
       "                    background-color: #383838;\n",
       "                }\n",
       "\n",
       "                .geemap-dark .jupyter-button {\n",
       "                    --jp-layout-color3: #383838;\n",
       "                }\n",
       "\n",
       "                .geemap-colab {\n",
       "                    background-color: var(--colab-primary-surface-color, white);\n",
       "                }\n",
       "\n",
       "                .geemap-colab .jupyter-button {\n",
       "                    --jp-layout-color3: var(--colab-primary-surface-color, white);\n",
       "                }\n",
       "            </style>\n",
       "            "
      ],
      "text/plain": [
       "<IPython.core.display.HTML object>"
      ]
     },
     "metadata": {},
     "output_type": "display_data"
    }
   ],
   "source": [
    "import ee\n",
    "import geemap\n",
    "import os\n",
    "from tqdm import tqdm\n",
    "import calendar\n",
    "import json\n",
    "from google.cloud import storage\n",
    "import time\n",
    "\n",
    "default_s2_bands = ['B2', 'B3', 'B4', 'B8',  # 10m\n",
    "                    'B5', 'B8A', 'B11']  # 20m\n",
    "bands10 = ['B2','B3','B4','B8']\n",
    "bands20 = ['B5','B8A','B11']\n",
    "\n",
    "PROJECT_NAME = 'treeai-470815'\n",
    "EXP_SCALE = 10\n",
    "MAX_PIXELS = 1e13\n",
    "\n",
    "# Initialize the Earth Engine module and register this code in project 'TreeAI'\n",
    "ee.Authenticate()\n",
    "ee.Initialize(project=PROJECT_NAME)"
   ]
  },
  {
   "cell_type": "code",
   "execution_count": 9,
   "id": "8dcde0fbdeed7cd4",
   "metadata": {
    "ExecuteTime": {
     "end_time": "2025-10-02T13:08:58.571545300Z",
     "start_time": "2025-10-02T13:08:58.558510700Z"
    },
    "collapsed": false
   },
   "outputs": [
    {
     "data": {
      "text/html": [
       "\n",
       "            <style>\n",
       "                .geemap-dark {\n",
       "                    --jp-widgets-color: white;\n",
       "                    --jp-widgets-label-color: white;\n",
       "                    --jp-ui-font-color1: white;\n",
       "                    --jp-layout-color2: #454545;\n",
       "                    background-color: #383838;\n",
       "                }\n",
       "\n",
       "                .geemap-dark .jupyter-button {\n",
       "                    --jp-layout-color3: #383838;\n",
       "                }\n",
       "\n",
       "                .geemap-colab {\n",
       "                    background-color: var(--colab-primary-surface-color, white);\n",
       "                }\n",
       "\n",
       "                .geemap-colab .jupyter-button {\n",
       "                    --jp-layout-color3: var(--colab-primary-surface-color, white);\n",
       "                }\n",
       "            </style>\n",
       "            "
      ],
      "text/plain": [
       "<IPython.core.display.HTML object>"
      ]
     },
     "metadata": {},
     "output_type": "display_data"
    }
   ],
   "source": [
    "def maskBySCL(s2_image, masked_type=[0, 1, 3, 7, 8, 9, 10, 11]):\n",
    "    scl = s2_image.select('SCL')\n",
    "    img_bilinear = s2_image.resample('bilinear')\n",
    "    img_bilinear = img_bilinear.addBands(scl, overwrite=True)\n",
    "\n",
    "    bad_values = ee.List(masked_type)\n",
    "    bad_flag = scl.remap(bad_values, ee.List.repeat(1, bad_values.length()), 0)\n",
    "\n",
    "    good_mask = bad_flag.neq(1)\n",
    "\n",
    "    masked_img = img_bilinear.updateMask(good_mask)\n",
    "    return masked_img"
   ]
  },
  {
   "cell_type": "code",
   "execution_count": null,
   "id": "453a457a7e7e2143",
   "metadata": {
    "ExecuteTime": {
     "end_time": "2025-10-02T13:09:25.510794800Z",
     "start_time": "2025-10-02T13:09:25.489686700Z"
    },
    "collapsed": false
   },
   "outputs": [
    {
     "data": {
      "text/html": [
       "\n",
       "            <style>\n",
       "                .geemap-dark {\n",
       "                    --jp-widgets-color: white;\n",
       "                    --jp-widgets-label-color: white;\n",
       "                    --jp-ui-font-color1: white;\n",
       "                    --jp-layout-color2: #454545;\n",
       "                    background-color: #383838;\n",
       "                }\n",
       "\n",
       "                .geemap-dark .jupyter-button {\n",
       "                    --jp-layout-color3: #383838;\n",
       "                }\n",
       "\n",
       "                .geemap-colab {\n",
       "                    background-color: var(--colab-primary-surface-color, white);\n",
       "                }\n",
       "\n",
       "                .geemap-colab .jupyter-button {\n",
       "                    --jp-layout-color3: var(--colab-primary-surface-color, white);\n",
       "                }\n",
       "            </style>\n",
       "            "
      ],
      "text/plain": [
       "<IPython.core.display.HTML object>"
      ]
     },
     "metadata": {},
     "output_type": "display_data"
    }
   ],
   "source": [
    "swiss_boundary = ee.FeatureCollection(\"projects/treeai-470815/assets/swissBOUNDARIES3D_1_5_TLM_KANTONSGEBIET\")\n",
    "out_crs = swiss_boundary.geometry().crs()\n",
    "year = 2018\n",
    "month = 7"
   ]
  },
  {
   "cell_type": "code",
   "execution_count": 11,
   "id": "824bfce665ec836d",
   "metadata": {
    "ExecuteTime": {
     "end_time": "2025-10-02T13:09:40.744509700Z",
     "start_time": "2025-10-02T13:09:40.727650800Z"
    },
    "collapsed": false
   },
   "outputs": [
    {
     "data": {
      "text/html": [
       "\n",
       "            <style>\n",
       "                .geemap-dark {\n",
       "                    --jp-widgets-color: white;\n",
       "                    --jp-widgets-label-color: white;\n",
       "                    --jp-ui-font-color1: white;\n",
       "                    --jp-layout-color2: #454545;\n",
       "                    background-color: #383838;\n",
       "                }\n",
       "\n",
       "                .geemap-dark .jupyter-button {\n",
       "                    --jp-layout-color3: #383838;\n",
       "                }\n",
       "\n",
       "                .geemap-colab {\n",
       "                    background-color: var(--colab-primary-surface-color, white);\n",
       "                }\n",
       "\n",
       "                .geemap-colab .jupyter-button {\n",
       "                    --jp-layout-color3: var(--colab-primary-surface-color, white);\n",
       "                }\n",
       "            </style>\n",
       "            "
      ],
      "text/plain": [
       "<IPython.core.display.HTML object>"
      ]
     },
     "metadata": {},
     "output_type": "display_data"
    }
   ],
   "source": [
    "start_date = ee.Date.fromYMD(year, month, 1)\n",
    "end_date = start_date.advance(1, 'month')\n",
    "\n",
    "swiss_S2_images = ee.ImageCollection('COPERNICUS/S2_SR_HARMONIZED') \\\n",
    "                    .filterBounds(swiss_boundary.geometry()) \\\n",
    "                    .filterDate(start_date, end_date) \\\n",
    "                    .map(lambda im: maskBySCL(im))\n",
    "\n",
    "comp10 = swiss_S2_images.select(bands10).median().clip(swiss_boundary)\n",
    "comp20_native = swiss_S2_images.select(bands20).median().clip(swiss_boundary)\n",
    "\n",
    "comp20_at10m = comp20_native.resample('bilinear').reproject(comp10.projection())\n",
    "S2_10m = comp10.addBands(comp20_at10m).set({\n",
    "    'year': year, 'month': month, 'strategy': 'SCL_median', 'scale': 10\n",
    "})"
   ]
  },
  {
   "cell_type": "code",
   "execution_count": 15,
   "id": "13c56079",
   "metadata": {},
   "outputs": [
    {
     "data": {
      "text/html": [
       "\n",
       "            <style>\n",
       "                .geemap-dark {\n",
       "                    --jp-widgets-color: white;\n",
       "                    --jp-widgets-label-color: white;\n",
       "                    --jp-ui-font-color1: white;\n",
       "                    --jp-layout-color2: #454545;\n",
       "                    background-color: #383838;\n",
       "                }\n",
       "\n",
       "                .geemap-dark .jupyter-button {\n",
       "                    --jp-layout-color3: #383838;\n",
       "                }\n",
       "\n",
       "                .geemap-colab {\n",
       "                    background-color: var(--colab-primary-surface-color, white);\n",
       "                }\n",
       "\n",
       "                .geemap-colab .jupyter-button {\n",
       "                    --jp-layout-color3: var(--colab-primary-surface-color, white);\n",
       "                }\n",
       "            </style>\n",
       "            "
      ],
      "text/plain": [
       "<IPython.core.display.HTML object>"
      ]
     },
     "metadata": {},
     "output_type": "display_data"
    }
   ],
   "source": [
    "ee.batch.Export.image.toCloudStorage(\n",
    "    image=S2_10m,\n",
    "    description=f\"S2_CH_{year}_{month:02d}_median_SCL_10m_EPSG2056\",\n",
    "    bucket='your-bucket-name',\n",
    "    fileNamePrefix=f\"Sentinel-2/S2_CH_{year}_{month:02d}_median_SCL_10m_EPSG2056\",\n",
    "    region=swiss_boundary.geometry(),\n",
    "    scale=10,\n",
    "    crs='EPSG:2056',\n",
    "    maxPixels=1e13,\n",
    "    fileFormat='GeoTIFF',\n",
    "    formatOptions={'cloudOptimized': True}\n",
    ").start()"
   ]
  }
 ],
 "metadata": {
  "kernelspec": {
   "display_name": "forest",
   "language": "python",
   "name": "python3"
  },
  "language_info": {
   "codemirror_mode": {
    "name": "ipython",
    "version": 3
   },
   "file_extension": ".py",
   "mimetype": "text/x-python",
   "name": "python",
   "nbconvert_exporter": "python",
   "pygments_lexer": "ipython3",
   "version": "3.11.13"
  }
 },
 "nbformat": 4,
 "nbformat_minor": 5
}
