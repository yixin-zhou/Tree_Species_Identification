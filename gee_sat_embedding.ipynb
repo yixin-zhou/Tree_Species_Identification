{
 "cells": [
  {
   "metadata": {
    "ExecuteTime": {
     "end_time": "2025-08-24T08:20:17.161616600Z",
     "start_time": "2025-08-24T08:20:16.586843300Z"
    }
   },
   "cell_type": "code",
   "source": [
    "import ee\n",
    "import pathlib\n",
    "import os\n",
    "import rasterio\n",
    "from tqdm import tqdm\n",
    "import requests\n",
    "import shutil"
   ],
   "id": "a1332cfc644080e0",
   "outputs": [
    {
     "ename": "ModuleNotFoundError",
     "evalue": "No module named 'ee'",
     "output_type": "error",
     "traceback": [
      "\u001B[1;31m---------------------------------------------------------------------------\u001B[0m",
      "\u001B[1;31mModuleNotFoundError\u001B[0m                       Traceback (most recent call last)",
      "Cell \u001B[1;32mIn[2], line 1\u001B[0m\n\u001B[1;32m----> 1\u001B[0m \u001B[38;5;28;01mimport\u001B[39;00m \u001B[38;5;21;01mee\u001B[39;00m\n\u001B[0;32m      2\u001B[0m \u001B[38;5;28;01mimport\u001B[39;00m \u001B[38;5;21;01mpathlib\u001B[39;00m\n\u001B[0;32m      3\u001B[0m \u001B[38;5;28;01mimport\u001B[39;00m \u001B[38;5;21;01mos\u001B[39;00m\n",
      "\u001B[1;31mModuleNotFoundError\u001B[0m: No module named 'ee'"
     ]
    }
   ],
   "execution_count": 2
  },
  {
   "metadata": {},
   "cell_type": "markdown",
   "source": [
    "Register the Google Earth Engine in the `TreeAI` project"
   ],
   "id": "1adae0523339e66a"
  },
  {
   "metadata": {
    "ExecuteTime": {
     "end_time": "2025-08-23T08:57:18.697971Z",
     "start_time": "2025-08-23T08:57:17.448049Z"
    }
   },
   "cell_type": "code",
   "source": [
    "# Initialize the Earth Engine module and register this code in project 'TreeAI'\n",
    "ee.Authenticate()\n",
    "ee.Initialize(project='treeai-465719')"
   ],
   "id": "844577af466b4f01",
   "outputs": [
    {
     "data": {
      "text/plain": [
       "<IPython.core.display.HTML object>"
      ],
      "text/html": [
       "\n",
       "            <style>\n",
       "                .geemap-dark {\n",
       "                    --jp-widgets-color: white;\n",
       "                    --jp-widgets-label-color: white;\n",
       "                    --jp-ui-font-color1: white;\n",
       "                    --jp-layout-color2: #454545;\n",
       "                    background-color: #383838;\n",
       "                }\n",
       "\n",
       "                .geemap-dark .jupyter-button {\n",
       "                    --jp-layout-color3: #383838;\n",
       "                }\n",
       "\n",
       "                .geemap-colab {\n",
       "                    background-color: var(--colab-primary-surface-color, white);\n",
       "                }\n",
       "\n",
       "                .geemap-colab .jupyter-button {\n",
       "                    --jp-layout-color3: var(--colab-primary-surface-color, white);\n",
       "                }\n",
       "            </style>\n",
       "            "
      ]
     },
     "metadata": {},
     "output_type": "display_data"
    }
   ],
   "execution_count": 3
  },
  {
   "metadata": {},
   "cell_type": "markdown",
   "source": [
    "Run `scripts/upload_assets_to_gee.sh` to perform the upload."
   ],
   "id": "10bc9b623a63fbe9"
  },
  {
   "metadata": {
    "ExecuteTime": {
     "end_time": "2025-08-23T08:57:19.907110Z",
     "start_time": "2025-08-23T08:57:19.664127Z"
    }
   },
   "cell_type": "code",
   "source": [
    "def count_assets(parent_path):\n",
    "    info = ee.data.listAssets({'parent': parent_path})\n",
    "    assets = info.get('assets', [])\n",
    "    count = 0\n",
    "    for asset in assets:\n",
    "        count += 1\n",
    "        if asset['type'] == 'FOLDER':\n",
    "            count += count_assets(asset['id'])\n",
    "    return count\n",
    "\n",
    "\n",
    "# Check if the upload is successful, if so, the number of shapefile assets should be the same as the number of UAV images.\n",
    "gee_proj_root = 'users/bryce001006'\n",
    "total = count_assets(gee_proj_root)\n",
    "print(f\"There are {total} assets under {gee_proj_root}\")"
   ],
   "id": "544a2ca44c5c5061",
   "outputs": [
    {
     "data": {
      "text/plain": [
       "<IPython.core.display.HTML object>"
      ],
      "text/html": [
       "\n",
       "            <style>\n",
       "                .geemap-dark {\n",
       "                    --jp-widgets-color: white;\n",
       "                    --jp-widgets-label-color: white;\n",
       "                    --jp-ui-font-color1: white;\n",
       "                    --jp-layout-color2: #454545;\n",
       "                    background-color: #383838;\n",
       "                }\n",
       "\n",
       "                .geemap-dark .jupyter-button {\n",
       "                    --jp-layout-color3: #383838;\n",
       "                }\n",
       "\n",
       "                .geemap-colab {\n",
       "                    background-color: var(--colab-primary-surface-color, white);\n",
       "                }\n",
       "\n",
       "                .geemap-colab .jupyter-button {\n",
       "                    --jp-layout-color3: var(--colab-primary-surface-color, white);\n",
       "                }\n",
       "            </style>\n",
       "            "
      ]
     },
     "metadata": {},
     "output_type": "display_data"
    },
    {
     "name": "stdout",
     "output_type": "stream",
     "text": [
      "There are 144 assets under users/bryce001006\n"
     ]
    }
   ],
   "execution_count": 4
  },
  {
   "metadata": {
    "ExecuteTime": {
     "end_time": "2025-08-23T11:08:12.455076Z",
     "start_time": "2025-08-23T11:08:12.451565Z"
    }
   },
   "cell_type": "code",
   "source": [
    "def exportSatEmbed(asset_id, year, exp_scale=10, exp_folder='gee_export', maxPixels=1e13, ):\n",
    "    img = ee.Image(asset_id)\n",
    "    asset_name = os.path.basename(asset_id)\n",
    "\n",
    "    # Get projection information of src UAV image\n",
    "    ref_proj = img.projection()\n",
    "    ref_crs = ref_proj.crs()\n",
    "    aoi_rect = img.geometry().bounds(proj=ref_proj, maxError=1)\n",
    "\n",
    "    # find corresponding satellite embedding dataset v1 image\n",
    "    emb = (ee.ImageCollection('GOOGLE/SATELLITE_EMBEDDING/V1/ANNUAL')\n",
    "           .filterDate(f'{year}-01-01', f'{year + 1}-01-01')\n",
    "           .filterBounds(aoi_rect)\n",
    "           .first()\n",
    "           .clip(aoi_rect))\n",
    "\n",
    "    # define the task parameters and submit the task to Google Cloud\n",
    "    task = ee.batch.Export.image.toDrive(\n",
    "        image=emb,\n",
    "        description=f'Satellite embedding of {asset_name}',\n",
    "        folder=exp_folder,\n",
    "        fileNamePrefix=f'{asset_name}_SatEmbd_{year}',\n",
    "        region=aoi_rect,\n",
    "        crs=ref_crs,\n",
    "        scale=exp_scale,\n",
    "        maxPixels=maxPixels\n",
    "    )\n",
    "    task.start()\n",
    "    # print(f'Submit the task of downloading satellite embedding data of {asset_name}_SatEmbd_{year}')"
   ],
   "id": "acccf77cf21bc73f",
   "outputs": [
    {
     "data": {
      "text/plain": [
       "<IPython.core.display.HTML object>"
      ],
      "text/html": [
       "\n",
       "            <style>\n",
       "                .geemap-dark {\n",
       "                    --jp-widgets-color: white;\n",
       "                    --jp-widgets-label-color: white;\n",
       "                    --jp-ui-font-color1: white;\n",
       "                    --jp-layout-color2: #454545;\n",
       "                    background-color: #383838;\n",
       "                }\n",
       "\n",
       "                .geemap-dark .jupyter-button {\n",
       "                    --jp-layout-color3: #383838;\n",
       "                }\n",
       "\n",
       "                .geemap-colab {\n",
       "                    background-color: var(--colab-primary-surface-color, white);\n",
       "                }\n",
       "\n",
       "                .geemap-colab .jupyter-button {\n",
       "                    --jp-layout-color3: var(--colab-primary-surface-color, white);\n",
       "                }\n",
       "            </style>\n",
       "            "
      ]
     },
     "metadata": {},
     "output_type": "display_data"
    }
   ],
   "execution_count": 44
  },
  {
   "metadata": {
    "ExecuteTime": {
     "end_time": "2025-08-23T11:13:43.163852Z",
     "start_time": "2025-08-23T11:08:14.326104Z"
    }
   },
   "cell_type": "code",
   "source": [
    "assets_list = ee.data.listAssets(gee_proj_root)['assets']\n",
    "\n",
    "for year in range(2017, 2025):\n",
    "    for asset in tqdm(assets_list, desc=f'Downloading Satellite Emnedding Dataset V1 in {year}'):\n",
    "        exportSatEmbed(asset_id=asset['name'], year=year)"
   ],
   "id": "bf8d239578df9008",
   "outputs": [
    {
     "data": {
      "text/plain": [
       "<IPython.core.display.HTML object>"
      ],
      "text/html": [
       "\n",
       "            <style>\n",
       "                .geemap-dark {\n",
       "                    --jp-widgets-color: white;\n",
       "                    --jp-widgets-label-color: white;\n",
       "                    --jp-ui-font-color1: white;\n",
       "                    --jp-layout-color2: #454545;\n",
       "                    background-color: #383838;\n",
       "                }\n",
       "\n",
       "                .geemap-dark .jupyter-button {\n",
       "                    --jp-layout-color3: #383838;\n",
       "                }\n",
       "\n",
       "                .geemap-colab {\n",
       "                    background-color: var(--colab-primary-surface-color, white);\n",
       "                }\n",
       "\n",
       "                .geemap-colab .jupyter-button {\n",
       "                    --jp-layout-color3: var(--colab-primary-surface-color, white);\n",
       "                }\n",
       "            </style>\n",
       "            "
      ]
     },
     "metadata": {},
     "output_type": "display_data"
    },
    {
     "name": "stderr",
     "output_type": "stream",
     "text": [
      "Downloading Satellite Emnedding Dataset V1: 100%|██████████| 144/144 [01:06<00:00,  2.17it/s]\n",
      "Downloading Satellite Emnedding Dataset V1: 100%|██████████| 144/144 [00:55<00:00,  2.60it/s]\n",
      "Downloading Satellite Emnedding Dataset V1: 100%|██████████| 144/144 [00:43<00:00,  3.31it/s]\n",
      "Downloading Satellite Emnedding Dataset V1: 100%|██████████| 144/144 [00:41<00:00,  3.49it/s]\n",
      "Downloading Satellite Emnedding Dataset V1: 100%|██████████| 144/144 [00:39<00:00,  3.63it/s]\n",
      "Downloading Satellite Emnedding Dataset V1: 100%|██████████| 144/144 [00:42<00:00,  3.42it/s]\n",
      "Downloading Satellite Emnedding Dataset V1: 100%|██████████| 144/144 [00:39<00:00,  3.63it/s]\n"
     ]
    }
   ],
   "execution_count": 45
  },
  {
   "metadata": {},
   "cell_type": "code",
   "source": [
    "def print_info(path):\n",
    "    with rasterio.open(path) as src:\n",
    "        print(f\"\\n==== {path} ====\")\n",
    "        print(\"CRS:\", src.crs)\n",
    "        print(\"Bounds:\", src.bounds)\n",
    "        print(\"Resolution:\", src.res)\n",
    "        print(\"Width x Height:\", src.width, src.height)\n",
    "        print(\"Transform:\", src.transform)"
   ],
   "id": "8b4922069b24d2a9",
   "outputs": [],
   "execution_count": null
  },
  {
   "metadata": {
    "ExecuteTime": {
     "end_time": "2025-08-24T08:21:20.979840300Z",
     "start_time": "2025-08-24T08:21:20.970582600Z"
    }
   },
   "cell_type": "code",
   "source": [
    "treeai_swiss_folder = pathlib.Path('data/Swiss/TreeAI_Swiss')\n",
    "treeai_swiss_folder.mkdir(parents=True, exist_ok=True)\n",
    "\n",
    "uav_images_dir = pathlib.Path('data/Swiss/images')\n",
    "uav_images_list = list(uav_images_dir.glob(\"*.tif\"))\n",
    "\n",
    "sat_embd_dir = pathlib.Path('data/Swiss/gee_export')\n",
    "sat_embd_data = list(sat_embd_dir.glob(\"*.tif\"))"
   ],
   "id": "bbab8995b28880ce",
   "outputs": [
    {
     "ename": "NameError",
     "evalue": "name 'pathlib' is not defined",
     "output_type": "error",
     "traceback": [
      "\u001B[1;31m---------------------------------------------------------------------------\u001B[0m",
      "\u001B[1;31mNameError\u001B[0m                                 Traceback (most recent call last)",
      "Cell \u001B[1;32mIn[4], line 1\u001B[0m\n\u001B[1;32m----> 1\u001B[0m treeai_swiss_folder \u001B[38;5;241m=\u001B[39m pathlib\u001B[38;5;241m.\u001B[39mPath(\u001B[38;5;124m'\u001B[39m\u001B[38;5;124mdata/Swiss/TreeAI_Swiss\u001B[39m\u001B[38;5;124m'\u001B[39m)\n\u001B[0;32m      2\u001B[0m treeai_swiss_folder\u001B[38;5;241m.\u001B[39mmkdir(parents\u001B[38;5;241m=\u001B[39m\u001B[38;5;28;01mTrue\u001B[39;00m, exist_ok\u001B[38;5;241m=\u001B[39m\u001B[38;5;28;01mTrue\u001B[39;00m)\n\u001B[0;32m      4\u001B[0m uav_images_dir \u001B[38;5;241m=\u001B[39m pathlib\u001B[38;5;241m.\u001B[39mPath(\u001B[38;5;124m'\u001B[39m\u001B[38;5;124mdata/Swiss/images\u001B[39m\u001B[38;5;124m'\u001B[39m)\n",
      "\u001B[1;31mNameError\u001B[0m: name 'pathlib' is not defined"
     ]
    }
   ],
   "execution_count": 4
  }
 ],
 "metadata": {
  "kernelspec": {
   "display_name": "Python 3",
   "language": "python",
   "name": "python3"
  },
  "language_info": {
   "codemirror_mode": {
    "name": "ipython",
    "version": 2
   },
   "file_extension": ".py",
   "mimetype": "text/x-python",
   "name": "python",
   "nbconvert_exporter": "python",
   "pygments_lexer": "ipython2",
   "version": "2.7.6"
  }
 },
 "nbformat": 4,
 "nbformat_minor": 5
}
