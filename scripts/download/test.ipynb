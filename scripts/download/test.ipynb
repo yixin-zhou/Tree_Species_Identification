{
 "cells": [
  {
   "cell_type": "code",
   "execution_count": null,
   "id": "5f23bd62",
   "metadata": {},
   "outputs": [
    {
     "name": "stdout",
     "output_type": "stream",
     "text": [
      "Projection object: {'type': 'Projection', 'crs': 'EPSG:4326', 'transform': [1, 0, 0, 0, 1, 0]}\n",
      "CRS: EPSG:4326\n",
      "Type: Image\n",
      "Bands: ['B2', 'B3', 'B4', 'B8', 'B5', 'B8A', 'B11']\n"
     ]
    }
   ],
   "source": [
    "import ee\n",
    "import os\n",
    "from tqdm import tqdm\n",
    "import calendar\n",
    "import json\n",
    "from google.cloud import storage\n",
    "import time\n",
    "\n",
    "\n",
    "default_s2_bands = ['B2', 'B3', 'B4', 'B8',  # 10m\n",
    "                    'B5', 'B8A', 'B11']  # 20m\n",
    "\n",
    "\n",
    "def combine_pair(i):\n",
    "    i = ee.Number(i)\n",
    "    i10 = ee.Image(l10.get(i))\n",
    "    i20 = ee.Image(l20.get(i))\n",
    "    return (ee.Image.cat([\n",
    "                i10.select(['B2', 'B3', 'B4', 'B8', 'cloudAndCloudShadowMask']),\n",
    "                i20.select(['B5', 'B8A', 'B11'])\n",
    "        ]).copyProperties(i10, ['system:time_start', 'system:index']))\n",
    "\n",
    "\n",
    "def upsample20mBands(img):\n",
    "    ref10 = img.select('B2').projection()\n",
    "\n",
    "    bands20_to10 = (img.select(['B5', 'B8A', 'B11'])\n",
    "                    .resample('bilinear')\n",
    "                    .reproject(ref10))\n",
    "    bands10 = img.select(['B2', 'B3', 'B4', 'B8'])\n",
    "    mask10 = img.select('cloudAndCloudShadowMask')\n",
    "    out = (ee.Image.cat([bands10, bands20_to10, mask10])\n",
    "            .updateMask(mask10.eq(0))\n",
    "            .copyProperties(img, img.propertyNames()))\n",
    "    return out\n",
    "\n",
    "\n",
    "\n",
    "PROJECT_NAME = 'treeai-470815'\n",
    "EXP_SCALE = 10\n",
    "MAX_PIXELS = 1e13\n",
    "\n",
    "# Initialize the Earth Engine module and register this code in project 'TreeAI'\n",
    "ee.Authenticate()\n",
    "ee.Initialize(project=PROJECT_NAME)\n",
    "\n",
    "swiss_boundary = ee.FeatureCollection(\"projects/treeai-470815/assets/swissBOUNDARIES3D_1_5_TLM_KANTONSGEBIET\")\n",
    "\n",
    "start_date = ee.Date.fromYMD(2018, 1, 1)\n",
    "end_date = start_date.advance(1, 'month')\n",
    "\n",
    "col = (ee.ImageCollection(\"projects/satromo-prod/assets/col/S2_SR_HARMONIZED_SWISS\")\n",
    "        .filterBounds(swiss_boundary.geometry())\n",
    "        .filterDate(start_date, end_date))\n",
    "\n",
    "images_10m = col.filter(ee.Filter.eq('pixel_size_meter', 10)).sort('system:time_start', True)\n",
    "images_20m = col.filter(ee.Filter.eq('pixel_size_meter', 20)).sort('system:time_start', True)\n",
    "\n",
    "n = images_10m.size()\n",
    "if n.getInfo()>0:\n",
    "    l10 = images_10m.toList(n)\n",
    "    l20 = images_20m.toList(n)\n",
    "\n",
    "    merged = ee.ImageCollection(ee.List.sequence(0, n.subtract(1)).map(combine_pair))\n",
    "    merged = merged.map(upsample20mBands)\n",
    "    monthly_median = merged.select(default_s2_bands).median().clip(swiss_boundary.geometry())\n",
    "\n",
    "proj = monthly_median.select('B2').projection()\n",
    "print(\"Projection object:\", proj.getInfo())\n",
    "\n",
    "crs = proj.crs().getInfo()\n",
    "print(\"CRS:\", crs)\n",
    "\n",
    "info = monthly_median.getInfo()\n",
    "print(\"Type:\", info['type'])\n",
    "print(\"Bands:\", [b['id'] for b in info['bands']])\n",
    "\n",
    "# task = ee.batch.Export.image.toCloudStorage(\n",
    "#     image=monthly_median,\n",
    "#     description=\"swiss_monthly_201801\",\n",
    "#     bucket=\"treeai_swiss\",\n",
    "#     fileNamePrefix=\"Sentinel2/2018_01\",\n",
    "#     region=swiss_boundary.geometry(),\n",
    "#     scale=10,\n",
    "#     crs=\"EPSG:2056\",\n",
    "#     maxPixels=1e13\n",
    "# )\n",
    "# task.start()"
   ]
  },
  {
   "cell_type": "code",
   "execution_count": 3,
   "id": "918074aa",
   "metadata": {},
   "outputs": [],
   "source": [
    "import geemap"
   ]
  },
  {
   "cell_type": "code",
   "execution_count": null,
   "id": "3ef37301",
   "metadata": {},
   "outputs": [],
   "source": [
    "vis_params = {\n",
    "    \"bands\": [\"B4\", \"B3\", \"B2\"], \n",
    "    \"min\": 0, \n",
    "    \"max\": 3000\n",
    "}"
   ]
  },
  {
   "cell_type": "code",
   "execution_count": 4,
   "id": "dad51226",
   "metadata": {},
   "outputs": [
    {
     "data": {
      "text/html": [
       "\n",
       "            <style>\n",
       "                .geemap-dark {\n",
       "                    --jp-widgets-color: white;\n",
       "                    --jp-widgets-label-color: white;\n",
       "                    --jp-ui-font-color1: white;\n",
       "                    --jp-layout-color2: #454545;\n",
       "                    background-color: #383838;\n",
       "                }\n",
       "\n",
       "                .geemap-dark .jupyter-button {\n",
       "                    --jp-layout-color3: #383838;\n",
       "                }\n",
       "\n",
       "                .geemap-colab {\n",
       "                    background-color: var(--colab-primary-surface-color, white);\n",
       "                }\n",
       "\n",
       "                .geemap-colab .jupyter-button {\n",
       "                    --jp-layout-color3: var(--colab-primary-surface-color, white);\n",
       "                }\n",
       "            </style>\n",
       "            "
      ],
      "text/plain": [
       "<IPython.core.display.HTML object>"
      ]
     },
     "metadata": {},
     "output_type": "display_data"
    },
    {
     "data": {
      "application/vnd.jupyter.widget-view+json": {
       "model_id": "186be209c812460f9a1854d983828520",
       "version_major": 2,
       "version_minor": 0
      },
      "text/plain": [
       "Map(center=[46.80316652470189, 8.227942569584531], controls=(WidgetControl(options=['position', 'transparent_b…"
      ]
     },
     "execution_count": 4,
     "metadata": {},
     "output_type": "execute_result"
    }
   ],
   "source": [
    "Map = geemap.Map()\n",
    "Map.centerObject(swiss_boundary, 7)\n",
    "\n",
    "monthly_vis = monthly_median.reproject(crs=\"EPSG:32632\", scale=100)\n",
    "Map.addLayer(monthly_vis, vis_params, \"Monthly median (preview)\")\n",
    "Map"
   ]
  }
 ],
 "metadata": {
  "kernelspec": {
   "display_name": "pytorch",
   "language": "python",
   "name": "python3"
  },
  "language_info": {
   "codemirror_mode": {
    "name": "ipython",
    "version": 3
   },
   "file_extension": ".py",
   "mimetype": "text/x-python",
   "name": "python",
   "nbconvert_exporter": "python",
   "pygments_lexer": "ipython3",
   "version": "3.10.14"
  }
 },
 "nbformat": 4,
 "nbformat_minor": 5
}
